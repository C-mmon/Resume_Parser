{
 "cells": [
  {
   "cell_type": "code",
   "execution_count": 1,
   "id": "17ae75ba",
   "metadata": {},
   "outputs": [],
   "source": [
    "from pdfminer.high_level import extract_text"
   ]
  },
  {
   "cell_type": "code",
   "execution_count": 2,
   "id": "dd8f2617",
   "metadata": {},
   "outputs": [],
   "source": [
    "def extract_text_path(pdf_path):\n",
    "    return extract_text(pdf_path)"
   ]
  },
  {
   "cell_type": "code",
   "execution_count": null,
   "id": "deca6e8b",
   "metadata": {},
   "outputs": [],
   "source": []
  },
  {
   "cell_type": "code",
   "execution_count": 143,
   "id": "515cc8db",
   "metadata": {},
   "outputs": [
    {
     "name": "stdout",
     "output_type": "stream",
     "text": [
      "ARIJIT ROY\n",
      "radiaoctive11.codes (cid:5) roy.arijit011@outlook.com (cid:5) github.com/radioactive11 (cid:5) linkedin.com/in/arijit–roy\n",
      "\n",
      "PROJECTS\n",
      "\n",
      "songs\n",
      "\n",
      "Rezonance — Music Streaming App\n",
      "\n",
      "July 2021\n",
      "\n",
      "· Scrapped data from free music streaming platforms and built a recommendation engine for 200,000+\n",
      "\n",
      "· Applied TDD to build a REST API using FastAPI, SQL and Redis\n",
      "· Real-time searching with auto-complete and auto-correction - 70ms per search query\n",
      "\n",
      "Poor Man’s Rekognition\n",
      "Contributer\n",
      "\n",
      "March 2021\n",
      "\n",
      "· Migrated entire code-base from TensorFlow1.x to TensorFlow2.x%\n",
      "· Implemented various SoTA - RetinaFace, YoloV3, etc and improved response times by 80%\n",
      "\n",
      "ALPR — Real-time License Plate Detection\n",
      "\n",
      "May 2020\n",
      "\n",
      "· Developed a low-latency license plate detector which detects 10 license plates in 70ms from a single image\n",
      "· Used Azure-Cognitive services to read text from detected license plates\n",
      "\n",
      "AQUA - Digital Evaluation Platform\n",
      "\n",
      "January 2021\n",
      "\n",
      "· Developed an OCR system to detect handwritten answers and check for plagiarism\n",
      "· Designed and built data pipelines for uploading/downloading/managing assignments for teachers and\n",
      "\n",
      "· Implemented A Recurrent BERT-based Model for Question Generation in PyTorch for automatic quiz\n",
      "\n",
      "students\n",
      "\n",
      "generation\n",
      "\n",
      "WORK EXPERIENCE\n",
      "\n",
      "Microsoft\n",
      "Student Ambassador\n",
      "\n",
      "April 2021 - Present\n",
      "\n",
      "· Conducted workshops on Azure Technologies like Cognitive Services, Azure ML, Blob Storage etc.\n",
      "· Actively engaged in a community of student ambassadors from around the globe\n",
      "\n",
      "cppsecrets\n",
      "Computer Vision Engineer\n",
      "\n",
      "September 2020 - November 2020\n",
      "New Delhi, IN\n",
      "\n",
      "· Created various computer vision based solutions including\n",
      "\n",
      "-LIDAR using Monocular Camera\n",
      "-Object detection algorithms to detect objects from images and videos\n",
      "\n",
      "· Fingerprint recognition using OpenCV C++\n",
      "\n",
      "EDUCATION\n",
      "\n",
      "Manipal Institute of Technology\n",
      "B.Tech Computer Science & Engineering\n",
      "\n",
      "ACHIEVEMENTS\n",
      "\n",
      "3 hackathon wins in 2021 (2 National, 1 International)\n",
      "\n",
      "TMA Pai Engineering Scholarship 2019, 2020, 2021\n",
      "\n",
      "5 Star Rating in CodeChef, Global Rank #1 in May Challenge\n",
      "\n",
      "July 2019 - Present\n",
      "GPA: 9.10\n",
      "\n",
      "\f",
      "\n",
      "Phone Number\n",
      "Email Address\n",
      "roy.arijit011@outlook.com\n",
      "Name\n",
      "[('ARIJIT', 'PERSON'), ('ROY', 'PERSON'), ('radiaoctive11.codes', 'O'), ('(cid:5)', 'O'), ('roy.arijit011@outlook.com', 'O'), ('(cid:5)', 'O'), ('github.comradioactive11', 'O'), ('(cid:5)', 'O'), ('linkedin.cominarijit–roy', 'O'), ('PROJECTS', 'O'), ('songs', 'O'), ('Rezonance', 'O'), ('—', 'O'), ('Music', 'O'), ('Streaming', 'O'), ('App', 'O'), ('July', 'O'), ('2021', 'O'), ('·', 'O'), ('Scrapped', 'O'), ('data', 'O'), ('from', 'O'), ('free', 'O'), ('music', 'O'), ('streaming', 'O'), ('platforms', 'O'), ('and', 'O'), ('built', 'O'), ('a', 'O'), ('recommendation', 'O'), ('engine', 'O'), ('for', 'O'), ('200,000+', 'O'), ('·', 'O'), ('Applied', 'O'), ('TDD', 'O'), ('to', 'O'), ('build', 'O'), ('a', 'O'), ('REST', 'O'), ('API', 'O'), ('using', 'O'), ('FastAPI,', 'O'), ('SQL', 'O'), ('and', 'O'), ('Redis', 'O'), ('·', 'O'), ('Real-time', 'O'), ('searching', 'O'), ('with', 'O'), ('auto-complete', 'O'), ('and', 'O'), ('auto-correction', 'O'), ('-', 'O'), ('70ms', 'O'), ('per', 'O'), ('search', 'O'), ('query', 'O'), ('Poor', 'O'), ('Man’s', 'O'), ('Rekognition', 'O'), ('Contributer', 'O'), ('March', 'O'), ('2021', 'O'), ('·', 'O'), ('Migrated', 'O'), ('entire', 'O'), ('code-base', 'O'), ('from', 'O'), ('TensorFlow1.x', 'O'), ('to', 'O'), ('TensorFlow2.x%', 'O'), ('·', 'O'), ('Implemented', 'O'), ('various', 'O'), ('SoTA', 'O'), ('-', 'O'), ('RetinaFace,', 'O'), ('YoloV3,', 'O'), ('etc', 'O'), ('and', 'O'), ('improved', 'O'), ('response', 'O'), ('times', 'O'), ('by', 'O'), ('80%', 'O'), ('ALPR', 'O'), ('—', 'O'), ('Real-time', 'O'), ('License', 'O'), ('Plate', 'O'), ('Detection', 'O'), ('May', 'O'), ('2020', 'O'), ('·', 'O'), ('Developed', 'O'), ('a', 'O'), ('low-latency', 'O'), ('license', 'O'), ('plate', 'O'), ('detector', 'O'), ('which', 'O'), ('detects', 'O'), ('10', 'O'), ('license', 'O'), ('plates', 'O'), ('in', 'O'), ('70ms', 'O'), ('from', 'O'), ('a', 'O'), ('single', 'O'), ('image', 'O'), ('·', 'O'), ('Used', 'O'), ('Azure-Cognitive', 'O'), ('services', 'O'), ('to', 'O'), ('read', 'O'), ('text', 'O'), ('from', 'O'), ('detected', 'O'), ('license', 'O'), ('plates', 'O'), ('AQUA', 'O'), ('-', 'O'), ('Digital', 'O'), ('Evaluation', 'O'), ('Platform', 'O'), ('January', 'O'), ('2021', 'O'), ('·', 'O'), ('Developed', 'O'), ('an', 'O'), ('OCR', 'O'), ('system', 'O'), ('to', 'O'), ('detect', 'O'), ('handwritten', 'O'), ('answers', 'O'), ('and', 'O'), ('check', 'O'), ('for', 'O'), ('plagiarism', 'O'), ('·', 'O'), ('Designed', 'O'), ('and', 'O'), ('built', 'O'), ('data', 'O'), ('pipelines', 'O'), ('for', 'O'), ('uploadingdownloadingmanaging', 'O'), ('assignments', 'O'), ('for', 'O'), ('teachers', 'O'), ('and', 'O'), ('·', 'O'), ('Implemented', 'O'), ('A', 'O'), ('Recurrent', 'O'), ('BERT-based', 'O'), ('Model', 'O'), ('for', 'O'), ('Question', 'O'), ('Generation', 'O'), ('in', 'O'), ('PyTorch', 'O'), ('for', 'O'), ('automatic', 'O'), ('quiz', 'O'), ('students', 'O'), ('generation', 'O'), ('WORK', 'O'), ('EXPERIENCE', 'O'), ('Microsoft', 'ORGANIZATION'), ('Student', 'O'), ('Ambassador', 'O'), ('April', 'O'), ('2021', 'O'), ('-', 'O'), ('Present', 'O'), ('·', 'O'), ('Conducted', 'O'), ('workshops', 'O'), ('on', 'O'), ('Azure', 'O'), ('Technologies', 'O'), ('like', 'O'), ('Cognitive', 'O'), ('Services,', 'O'), ('Azure', 'O'), ('ML,', 'O'), ('Blob', 'O'), ('Storage', 'O'), ('etc.', 'O'), ('·', 'O'), ('Actively', 'O'), ('engaged', 'O'), ('in', 'O'), ('a', 'O'), ('community', 'O'), ('of', 'O'), ('student', 'O'), ('ambassadors', 'O'), ('from', 'O'), ('around', 'O'), ('the', 'O'), ('globe', 'O'), ('cppsecrets', 'O'), ('Computer', 'O'), ('Vision', 'O'), ('Engineer', 'O'), ('September', 'O'), ('2020', 'O'), ('-', 'O'), ('November', 'O'), ('2020', 'O'), ('New', 'O'), ('Delhi,', 'O'), ('IN', 'O'), ('·', 'O'), ('Created', 'O'), ('various', 'O'), ('computer', 'O'), ('vision', 'O'), ('based', 'O'), ('solutions', 'O'), ('including', 'O'), ('-LIDAR', 'O'), ('using', 'O'), ('Monocular', 'O'), ('Camera', 'O'), ('-Object', 'O'), ('detection', 'O'), ('algorithms', 'O'), ('to', 'O'), ('detect', 'O'), ('objects', 'O'), ('from', 'O'), ('images', 'O'), ('and', 'O'), ('videos', 'O'), ('·', 'O'), ('Fingerprint', 'O'), ('recognition', 'O'), ('using', 'O'), ('OpenCV', 'O'), ('C++', 'O'), ('EDUCATION', 'O'), ('Manipal', 'ORGANIZATION'), ('Institute', 'ORGANIZATION'), ('of', 'ORGANIZATION'), ('Technology', 'ORGANIZATION'), ('B.Tech', 'ORGANIZATION'), ('Computer', 'ORGANIZATION'), ('Science', 'ORGANIZATION'), ('&', 'ORGANIZATION'), ('Engineering', 'ORGANIZATION'), ('ACHIEVEMENTS', 'ORGANIZATION'), ('3', 'O'), ('hackathon', 'O'), ('wins', 'O'), ('in', 'O'), ('2021', 'O'), ('(2', 'O'), ('National,', 'O'), ('1', 'O'), ('International)', 'O'), ('TMA', 'O'), ('Pai', 'O'), ('Engineering', 'O'), ('Scholarship', 'O'), ('2019,', 'O'), ('2020,', 'O'), ('2021', 'O'), ('5', 'O'), ('Star', 'O'), ('Rating', 'O'), ('in', 'O'), ('CodeChef,', 'O'), ('Global', 'O'), ('Rank', 'O'), ('#1', 'O'), ('in', 'O'), ('May', 'O'), ('Challenge', 'O'), ('July', 'O'), ('2019', 'O'), ('-', 'O'), ('Present', 'O'), ('GPA:', 'O'), ('9.10', 'O')]\n",
      "[('ARIJIT', 'PERSON'), ('ROY', 'PERSON'), ('radiaoctive11.codes', 'O'), ('(cid:5)', 'O'), ('roy.arijit011@outlook.com', 'O'), ('(cid:5)', 'O'), ('github.comradioactive11', 'O'), ('(cid:5)', 'O'), ('linkedin.cominarijit–roy', 'O'), ('PROJECTS', 'O'), ('songs', 'O'), ('Rezonance', 'O'), ('—', 'O'), ('Music', 'O'), ('Streaming', 'O'), ('App', 'O'), ('July', 'O'), ('2021', 'O'), ('·', 'O'), ('Scrapped', 'O'), ('data', 'O'), ('from', 'O'), ('free', 'O'), ('music', 'O'), ('streaming', 'O'), ('platforms', 'O'), ('and', 'O'), ('built', 'O'), ('a', 'O'), ('recommendation', 'O'), ('engine', 'O'), ('for', 'O'), ('200,000+', 'O'), ('·', 'O'), ('Applied', 'O'), ('TDD', 'O'), ('to', 'O'), ('build', 'O'), ('a', 'O'), ('REST', 'O'), ('API', 'O'), ('using', 'O'), ('FastAPI,', 'O'), ('SQL', 'O'), ('and', 'O'), ('Redis', 'O'), ('·', 'O'), ('Real-time', 'O'), ('searching', 'O'), ('with', 'O'), ('auto-complete', 'O'), ('and', 'O'), ('auto-correction', 'O'), ('-', 'O'), ('70ms', 'O'), ('per', 'O'), ('search', 'O'), ('query', 'O'), ('Poor', 'O'), ('Man’s', 'O'), ('Rekognition', 'O'), ('Contributer', 'O'), ('March', 'O'), ('2021', 'O'), ('·', 'O'), ('Migrated', 'O'), ('entire', 'O'), ('code-base', 'O'), ('from', 'O'), ('TensorFlow1.x', 'O'), ('to', 'O'), ('TensorFlow2.x%', 'O'), ('·', 'O'), ('Implemented', 'O'), ('various', 'O'), ('SoTA', 'O'), ('-', 'O'), ('RetinaFace,', 'O'), ('YoloV3,', 'O'), ('etc', 'O'), ('and', 'O'), ('improved', 'O'), ('response', 'O'), ('times', 'O'), ('by', 'O'), ('80%', 'O'), ('ALPR', 'O'), ('—', 'O'), ('Real-time', 'O'), ('License', 'O'), ('Plate', 'O'), ('Detection', 'O'), ('May', 'O'), ('2020', 'O'), ('·', 'O'), ('Developed', 'O'), ('a', 'O'), ('low-latency', 'O'), ('license', 'O'), ('plate', 'O'), ('detector', 'O'), ('which', 'O'), ('detects', 'O'), ('10', 'O'), ('license', 'O'), ('plates', 'O'), ('in', 'O'), ('70ms', 'O'), ('from', 'O'), ('a', 'O'), ('single', 'O'), ('image', 'O'), ('·', 'O'), ('Used', 'O'), ('Azure-Cognitive', 'O'), ('services', 'O'), ('to', 'O'), ('read', 'O'), ('text', 'O'), ('from', 'O'), ('detected', 'O'), ('license', 'O'), ('plates', 'O'), ('AQUA', 'O'), ('-', 'O'), ('Digital', 'O'), ('Evaluation', 'O'), ('Platform', 'O'), ('January', 'O'), ('2021', 'O'), ('·', 'O'), ('Developed', 'O'), ('an', 'O'), ('OCR', 'O'), ('system', 'O'), ('to', 'O'), ('detect', 'O'), ('handwritten', 'O'), ('answers', 'O'), ('and', 'O'), ('check', 'O'), ('for', 'O'), ('plagiarism', 'O'), ('·', 'O'), ('Designed', 'O'), ('and', 'O'), ('built', 'O'), ('data', 'O'), ('pipelines', 'O'), ('for', 'O'), ('uploadingdownloadingmanaging', 'O'), ('assignments', 'O'), ('for', 'O'), ('teachers', 'O'), ('and', 'O'), ('·', 'O'), ('Implemented', 'O'), ('A', 'O'), ('Recurrent', 'O'), ('BERT-based', 'O'), ('Model', 'O'), ('for', 'O'), ('Question', 'O'), ('Generation', 'O'), ('in', 'O'), ('PyTorch', 'O'), ('for', 'O'), ('automatic', 'O'), ('quiz', 'O'), ('students', 'O'), ('generation', 'O'), ('WORK', 'O'), ('EXPERIENCE', 'O'), ('Microsoft', 'ORGANIZATION'), ('Student', 'O'), ('Ambassador', 'O'), ('April', 'O'), ('2021', 'O'), ('-', 'O'), ('Present', 'O'), ('·', 'O'), ('Conducted', 'O'), ('workshops', 'O'), ('on', 'O'), ('Azure', 'O'), ('Technologies', 'O'), ('like', 'O'), ('Cognitive', 'O'), ('Services,', 'O'), ('Azure', 'O'), ('ML,', 'O'), ('Blob', 'O'), ('Storage', 'O'), ('etc.', 'O'), ('·', 'O'), ('Actively', 'O'), ('engaged', 'O'), ('in', 'O'), ('a', 'O'), ('community', 'O'), ('of', 'O'), ('student', 'O'), ('ambassadors', 'O'), ('from', 'O'), ('around', 'O'), ('the', 'O'), ('globe', 'O'), ('cppsecrets', 'O'), ('Computer', 'O'), ('Vision', 'O'), ('Engineer', 'O'), ('September', 'O'), ('2020', 'O'), ('-', 'O'), ('November', 'O'), ('2020', 'O'), ('New', 'O'), ('Delhi,', 'O'), ('IN', 'O'), ('·', 'O'), ('Created', 'O'), ('various', 'O'), ('computer', 'O'), ('vision', 'O'), ('based', 'O'), ('solutions', 'O'), ('including', 'O'), ('-LIDAR', 'O'), ('using', 'O'), ('Monocular', 'O'), ('Camera', 'O'), ('-Object', 'O'), ('detection', 'O'), ('algorithms', 'O'), ('to', 'O'), ('detect', 'O'), ('objects', 'O'), ('from', 'O'), ('images', 'O'), ('and', 'O'), ('videos', 'O'), ('·', 'O'), ('Fingerprint', 'O'), ('recognition', 'O'), ('using', 'O'), ('OpenCV', 'O'), ('C++', 'O'), ('EDUCATION', 'O'), ('Manipal', 'ORGANIZATION'), ('Institute', 'ORGANIZATION'), ('of', 'ORGANIZATION'), ('Technology', 'ORGANIZATION'), ('B.Tech', 'ORGANIZATION'), ('Computer', 'ORGANIZATION'), ('Science', 'ORGANIZATION'), ('&', 'ORGANIZATION'), ('Engineering', 'ORGANIZATION'), ('ACHIEVEMENTS', 'ORGANIZATION'), ('3', 'O'), ('hackathon', 'O'), ('wins', 'O'), ('in', 'O'), ('2021', 'O'), ('(2', 'O'), ('National,', 'O'), ('1', 'O'), ('International)', 'O'), ('TMA', 'O'), ('Pai', 'O'), ('Engineering', 'O'), ('Scholarship', 'O'), ('2019,', 'O'), ('2020,', 'O'), ('2021', 'O'), ('5', 'O'), ('Star', 'O'), ('Rating', 'O'), ('in', 'O'), ('CodeChef,', 'O'), ('Global', 'O'), ('Rank', 'O'), ('#1', 'O'), ('in', 'O'), ('May', 'O'), ('Challenge', 'O'), ('July', 'O'), ('2019', 'O'), ('-', 'O'), ('Present', 'O'), ('GPA:', 'O'), ('9.10', 'O')]\n"
     ]
    }
   ],
   "source": [
    "import nltk\n",
    "import os\n",
    "import re\n",
    "import subprocess\n",
    "from nltk.tag import StanfordNERTagger\n",
    "\n",
    "os.environ['CLASSPATH'] = \"./stanford-ner/stanford-ner.jar\"\n",
    "os.environ['STANFORD_MODELS'] = './sta/edu/stanford/nlp/models/ner'\n",
    "\n",
    "\n",
    "java_path = \"/usr/bin/java\"\n",
    "os.environ['JAVAHOME'] = java_path\n",
    "\n",
    "#Phone Number Regex\n",
    "#works only for indian phone number\n",
    "PHONE_REG = re.compile(r'''(\\d{3}[-\\.\\s]??\\d{3}[-\\.\\s]??\\d{4}|\\(\\d{3}\\)\\s*\\d{3}[-\\.\\s]??\\d{4}|\\d{3}[-\\.\\s]??\\d{4})\n",
    "''', re.VERBOSE)\n",
    "\n",
    "#Email Regex\n",
    "email_Reg=re.compile(r'''((?:[a-z0-9!#$%&'*+/=?^_`{|}~-]+(?:\\.[a-z0-9!#$%&'*+/=?^_`{|}~-]+)*|\"(?:[\\x01-\\x08\\x0b\\x0c\\x0e-\\x1f\\x21\\x23-\\x5b\\x5d-\\x7f]|\\\\[\\x01-\\x09\\x0b\\x0c\\x0e-\\x7f])*\")@(?:(?:[a-z0-9](?:[a-z0-9-]*[a-z0-9])?\\.)+[a-z0-9](?:[a-z0-9-]*[a-z0-9])?|\\[(?:(?:25[0-5]|2[0-4][0-9]|[01]?[0-9][0-9]?)\\.){3}(?:25[0-5]|2[0-4][0-9]|[01]?[0-9][0-9]?|[a-z0-9-]*[a-z0-9]:(?:[\\x01-\\x08\\x0b\\x0c\\x0e-\\x1f\\x21-\\x5a\\x53-\\x7f]|\\\\[\\x01-\\x09\\x0b\\x0c\\x0e-\\x7f])+)\\]))''',re.VERBOSE)\n",
    "\n",
    "\n",
    "#Name implemented from stanford nerd\n",
    "\n",
    "    \n",
    "if __name__ == '__main__':\n",
    "    text=extract_text_path('./Summer_2021.pdf')\n",
    "    mo = PHONE_REG.search(text)\n",
    "    print(text)\n",
    "    print(\"Phone Number\")        \n",
    "    #print(mo.group())\n",
    "    print(\"Email Address\")\n",
    "    em=email_Reg.search(text)\n",
    "    print(em.group())\n",
    "    print(\"Name\")\n",
    "    stanford_classifier = './sta/edu/stanford/nlp/models/ner/english.all.3class.caseless.distsim.crf.ser.gz'\n",
    "    st = StanfordNERTagger(stanford_classifier)\n",
    "    tagged = st.tag(str(text).split())\n",
    "    print(tagged)\n",
    "    print(tagged)\n"
   ]
  },
  {
   "cell_type": "code",
   "execution_count": 144,
   "id": "269cd450",
   "metadata": {},
   "outputs": [
    {
     "name": "stdout",
     "output_type": "stream",
     "text": [
      "arijit–roy\n"
     ]
    }
   ],
   "source": [
    "#Extracting LinkedIn Profile Name\n",
    "result = text.find('inkedin.com/in')\n",
    "text_2=text[result+15:result+100]\n",
    "text_3=\"\"\n",
    "for i in text_2:\n",
    "    if i in \"\\n\":\n",
    "        break\n",
    "    else:\n",
    "        text_3+=i\n",
    "print(text_3)"
   ]
  },
  {
   "cell_type": "code",
   "execution_count": null,
   "id": "e7b051ca",
   "metadata": {},
   "outputs": [],
   "source": []
  },
  {
   "cell_type": "code",
   "execution_count": null,
   "id": "6c290fce",
   "metadata": {},
   "outputs": [],
   "source": []
  },
  {
   "cell_type": "code",
   "execution_count": null,
   "id": "53f29b6f",
   "metadata": {},
   "outputs": [],
   "source": []
  },
  {
   "cell_type": "code",
   "execution_count": null,
   "id": "4d045808",
   "metadata": {},
   "outputs": [],
   "source": []
  },
  {
   "cell_type": "code",
   "execution_count": null,
   "id": "ff06edc2",
   "metadata": {},
   "outputs": [],
   "source": []
  }
 ],
 "metadata": {
  "kernelspec": {
   "display_name": "Python 3",
   "language": "python",
   "name": "python3"
  },
  "language_info": {
   "codemirror_mode": {
    "name": "ipython",
    "version": 3
   },
   "file_extension": ".py",
   "mimetype": "text/x-python",
   "name": "python",
   "nbconvert_exporter": "python",
   "pygments_lexer": "ipython3",
   "version": "3.9.5"
  }
 },
 "nbformat": 4,
 "nbformat_minor": 5
}
